{
 "cells": [
  {
   "cell_type": "markdown",
   "id": "70c51394",
   "metadata": {},
   "source": [
    "# Hotel Booking Demand - Modeling"
   ]
  },
  {
   "cell_type": "markdown",
   "id": "2d106b4e",
   "metadata": {},
   "source": [
    "## Data loading"
   ]
  },
  {
   "cell_type": "code",
   "execution_count": 1,
   "id": "bacc2faf",
   "metadata": {},
   "outputs": [
    {
     "name": "stdout",
     "output_type": "stream",
     "text": [
      "Dataset shape: (87370, 30)\n"
     ]
    },
    {
     "data": {
      "text/html": [
       "<div>\n",
       "<style scoped>\n",
       "    .dataframe tbody tr th:only-of-type {\n",
       "        vertical-align: middle;\n",
       "    }\n",
       "\n",
       "    .dataframe tbody tr th {\n",
       "        vertical-align: top;\n",
       "    }\n",
       "\n",
       "    .dataframe thead th {\n",
       "        text-align: right;\n",
       "    }\n",
       "</style>\n",
       "<table border=\"1\" class=\"dataframe\">\n",
       "  <thead>\n",
       "    <tr style=\"text-align: right;\">\n",
       "      <th></th>\n",
       "      <th>hotel</th>\n",
       "      <th>is_canceled</th>\n",
       "      <th>lead_time</th>\n",
       "      <th>arrival_date_year</th>\n",
       "      <th>arrival_date_month</th>\n",
       "      <th>arrival_date_week_number</th>\n",
       "      <th>arrival_date_day_of_month</th>\n",
       "      <th>stays_in_weekend_nights</th>\n",
       "      <th>stays_in_week_nights</th>\n",
       "      <th>adults</th>\n",
       "      <th>...</th>\n",
       "      <th>assigned_room_type</th>\n",
       "      <th>booking_changes</th>\n",
       "      <th>deposit_type</th>\n",
       "      <th>days_in_waiting_list</th>\n",
       "      <th>customer_type</th>\n",
       "      <th>adr</th>\n",
       "      <th>required_car_parking_spaces</th>\n",
       "      <th>total_of_special_requests</th>\n",
       "      <th>reservation_status</th>\n",
       "      <th>reservation_status_date</th>\n",
       "    </tr>\n",
       "  </thead>\n",
       "  <tbody>\n",
       "    <tr>\n",
       "      <th>0</th>\n",
       "      <td>Resort Hotel</td>\n",
       "      <td>0</td>\n",
       "      <td>342</td>\n",
       "      <td>2015</td>\n",
       "      <td>July</td>\n",
       "      <td>27</td>\n",
       "      <td>1</td>\n",
       "      <td>0</td>\n",
       "      <td>0</td>\n",
       "      <td>2</td>\n",
       "      <td>...</td>\n",
       "      <td>C</td>\n",
       "      <td>3</td>\n",
       "      <td>No Deposit</td>\n",
       "      <td>0</td>\n",
       "      <td>Transient</td>\n",
       "      <td>0.0</td>\n",
       "      <td>0</td>\n",
       "      <td>0</td>\n",
       "      <td>Check-Out</td>\n",
       "      <td>2015-07-01</td>\n",
       "    </tr>\n",
       "    <tr>\n",
       "      <th>1</th>\n",
       "      <td>Resort Hotel</td>\n",
       "      <td>0</td>\n",
       "      <td>737</td>\n",
       "      <td>2015</td>\n",
       "      <td>July</td>\n",
       "      <td>27</td>\n",
       "      <td>1</td>\n",
       "      <td>0</td>\n",
       "      <td>0</td>\n",
       "      <td>2</td>\n",
       "      <td>...</td>\n",
       "      <td>C</td>\n",
       "      <td>4</td>\n",
       "      <td>No Deposit</td>\n",
       "      <td>0</td>\n",
       "      <td>Transient</td>\n",
       "      <td>0.0</td>\n",
       "      <td>0</td>\n",
       "      <td>0</td>\n",
       "      <td>Check-Out</td>\n",
       "      <td>2015-07-01</td>\n",
       "    </tr>\n",
       "    <tr>\n",
       "      <th>2</th>\n",
       "      <td>Resort Hotel</td>\n",
       "      <td>0</td>\n",
       "      <td>7</td>\n",
       "      <td>2015</td>\n",
       "      <td>July</td>\n",
       "      <td>27</td>\n",
       "      <td>1</td>\n",
       "      <td>0</td>\n",
       "      <td>1</td>\n",
       "      <td>1</td>\n",
       "      <td>...</td>\n",
       "      <td>C</td>\n",
       "      <td>0</td>\n",
       "      <td>No Deposit</td>\n",
       "      <td>0</td>\n",
       "      <td>Transient</td>\n",
       "      <td>75.0</td>\n",
       "      <td>0</td>\n",
       "      <td>0</td>\n",
       "      <td>Check-Out</td>\n",
       "      <td>2015-07-02</td>\n",
       "    </tr>\n",
       "    <tr>\n",
       "      <th>3</th>\n",
       "      <td>Resort Hotel</td>\n",
       "      <td>0</td>\n",
       "      <td>13</td>\n",
       "      <td>2015</td>\n",
       "      <td>July</td>\n",
       "      <td>27</td>\n",
       "      <td>1</td>\n",
       "      <td>0</td>\n",
       "      <td>1</td>\n",
       "      <td>1</td>\n",
       "      <td>...</td>\n",
       "      <td>A</td>\n",
       "      <td>0</td>\n",
       "      <td>No Deposit</td>\n",
       "      <td>0</td>\n",
       "      <td>Transient</td>\n",
       "      <td>75.0</td>\n",
       "      <td>0</td>\n",
       "      <td>0</td>\n",
       "      <td>Check-Out</td>\n",
       "      <td>2015-07-02</td>\n",
       "    </tr>\n",
       "    <tr>\n",
       "      <th>4</th>\n",
       "      <td>Resort Hotel</td>\n",
       "      <td>0</td>\n",
       "      <td>14</td>\n",
       "      <td>2015</td>\n",
       "      <td>July</td>\n",
       "      <td>27</td>\n",
       "      <td>1</td>\n",
       "      <td>0</td>\n",
       "      <td>2</td>\n",
       "      <td>2</td>\n",
       "      <td>...</td>\n",
       "      <td>A</td>\n",
       "      <td>0</td>\n",
       "      <td>No Deposit</td>\n",
       "      <td>0</td>\n",
       "      <td>Transient</td>\n",
       "      <td>98.0</td>\n",
       "      <td>0</td>\n",
       "      <td>1</td>\n",
       "      <td>Check-Out</td>\n",
       "      <td>2015-07-03</td>\n",
       "    </tr>\n",
       "  </tbody>\n",
       "</table>\n",
       "<p>5 rows × 30 columns</p>\n",
       "</div>"
      ],
      "text/plain": [
       "          hotel  is_canceled  lead_time  arrival_date_year arrival_date_month  \\\n",
       "0  Resort Hotel            0        342               2015               July   \n",
       "1  Resort Hotel            0        737               2015               July   \n",
       "2  Resort Hotel            0          7               2015               July   \n",
       "3  Resort Hotel            0         13               2015               July   \n",
       "4  Resort Hotel            0         14               2015               July   \n",
       "\n",
       "   arrival_date_week_number  arrival_date_day_of_month  \\\n",
       "0                        27                          1   \n",
       "1                        27                          1   \n",
       "2                        27                          1   \n",
       "3                        27                          1   \n",
       "4                        27                          1   \n",
       "\n",
       "   stays_in_weekend_nights  stays_in_week_nights  adults  ...  \\\n",
       "0                        0                     0       2  ...   \n",
       "1                        0                     0       2  ...   \n",
       "2                        0                     1       1  ...   \n",
       "3                        0                     1       1  ...   \n",
       "4                        0                     2       2  ...   \n",
       "\n",
       "   assigned_room_type  booking_changes deposit_type days_in_waiting_list  \\\n",
       "0                   C                3   No Deposit                    0   \n",
       "1                   C                4   No Deposit                    0   \n",
       "2                   C                0   No Deposit                    0   \n",
       "3                   A                0   No Deposit                    0   \n",
       "4                   A                0   No Deposit                    0   \n",
       "\n",
       "  customer_type   adr  required_car_parking_spaces  total_of_special_requests  \\\n",
       "0     Transient   0.0                            0                          0   \n",
       "1     Transient   0.0                            0                          0   \n",
       "2     Transient  75.0                            0                          0   \n",
       "3     Transient  75.0                            0                          0   \n",
       "4     Transient  98.0                            0                          1   \n",
       "\n",
       "   reservation_status reservation_status_date  \n",
       "0           Check-Out              2015-07-01  \n",
       "1           Check-Out              2015-07-01  \n",
       "2           Check-Out              2015-07-02  \n",
       "3           Check-Out              2015-07-02  \n",
       "4           Check-Out              2015-07-03  \n",
       "\n",
       "[5 rows x 30 columns]"
      ]
     },
     "execution_count": 1,
     "metadata": {},
     "output_type": "execute_result"
    }
   ],
   "source": [
    "import pandas as pd\n",
    "import numpy as np\n",
    "import matplotlib.pyplot as plt\n",
    "import seaborn as sns\n",
    "\n",
    "df = pd.read_csv('../data/processed/hotel_booking_clean.csv')\n",
    "\n",
    "print(\"Dataset shape:\", df.shape)\n",
    "df.head()"
   ]
  },
  {
   "cell_type": "code",
   "execution_count": 2,
   "id": "4214df5b",
   "metadata": {},
   "outputs": [
    {
     "name": "stdout",
     "output_type": "stream",
     "text": [
      "<class 'pandas.core.frame.DataFrame'>\n",
      "RangeIndex: 87370 entries, 0 to 87369\n",
      "Data columns (total 30 columns):\n",
      " #   Column                          Non-Null Count  Dtype  \n",
      "---  ------                          --------------  -----  \n",
      " 0   hotel                           87370 non-null  object \n",
      " 1   is_canceled                     87370 non-null  int64  \n",
      " 2   lead_time                       87370 non-null  int64  \n",
      " 3   arrival_date_year               87370 non-null  int64  \n",
      " 4   arrival_date_month              87370 non-null  object \n",
      " 5   arrival_date_week_number        87370 non-null  int64  \n",
      " 6   arrival_date_day_of_month       87370 non-null  int64  \n",
      " 7   stays_in_weekend_nights         87370 non-null  int64  \n",
      " 8   stays_in_week_nights            87370 non-null  int64  \n",
      " 9   adults                          87370 non-null  int64  \n",
      " 10  children                        87370 non-null  float64\n",
      " 11  babies                          87370 non-null  int64  \n",
      " 12  meal                            87370 non-null  object \n",
      " 13  country                         87370 non-null  object \n",
      " 14  market_segment                  87370 non-null  object \n",
      " 15  distribution_channel            87370 non-null  object \n",
      " 16  is_repeated_guest               87370 non-null  int64  \n",
      " 17  previous_cancellations          87370 non-null  int64  \n",
      " 18  previous_bookings_not_canceled  87370 non-null  int64  \n",
      " 19  reserved_room_type              87370 non-null  object \n",
      " 20  assigned_room_type              87370 non-null  object \n",
      " 21  booking_changes                 87370 non-null  int64  \n",
      " 22  deposit_type                    87370 non-null  object \n",
      " 23  days_in_waiting_list            87370 non-null  int64  \n",
      " 24  customer_type                   87370 non-null  object \n",
      " 25  adr                             87370 non-null  float64\n",
      " 26  required_car_parking_spaces     87370 non-null  int64  \n",
      " 27  total_of_special_requests       87370 non-null  int64  \n",
      " 28  reservation_status              87370 non-null  object \n",
      " 29  reservation_status_date         87370 non-null  object \n",
      "dtypes: float64(2), int64(16), object(12)\n",
      "memory usage: 20.0+ MB\n"
     ]
    }
   ],
   "source": [
    "df.info()"
   ]
  },
  {
   "cell_type": "markdown",
   "id": "99546fa1",
   "metadata": {},
   "source": [
    "## Feature Engineering"
   ]
  },
  {
   "cell_type": "markdown",
   "id": "995161ce",
   "metadata": {},
   "source": [
    "### Stay Length (Continuous and Categorical)\n",
    "\n",
    "Cancellation behavior varies significantly with stay length, but in a non-linear way:  \n",
    "\n",
    "- Short stays (1–7 nights): relatively low risk (~27%).  \n",
    "- Medium stays (8–14 nights): moderate risk (~33%).  \n",
    "- **Mid-long stays (15–30 nights):** the riskiest group, with **cancellation rates exceeding 50%**.  \n",
    "- Very long stays (>30 nights): cancellations drop again (~17%), likely due to committed corporate or long-term bookings.  \n",
    "\n",
    "This pattern indicates that stay length is an important feature, but its effect is not monotonic.  \n",
    "\n",
    "- For **tree-based models** (Random Forest, XGBoost, LightGBM):  \n",
    "  - The raw `total_stay` feature is sufficient, as trees can split around the risky ranges.  \n",
    "- For **linear models** (Logistic Regression):  \n",
    "  - Binned categories (short, medium, mid-long, long) are more effective for capturing the non-linear risk profile.  \n",
    "\n",
    "**Decision:** Keep `total_stay` for all models, and also use categorical bins for linear models.\n"
   ]
  },
  {
   "cell_type": "code",
   "execution_count": 3,
   "id": "cbb5b4ee",
   "metadata": {},
   "outputs": [
    {
     "data": {
      "image/png": "[encoded data removed]",
      "text/plain": [
       "<Figure size 800x400 with 1 Axes>"
      ]
     },
     "metadata": {},
     "output_type": "display_data"
    }
   ],
   "source": [
    "df[\"total_stay\"] = df[\"stays_in_weekend_nights\"] + df[\"stays_in_week_nights\"]\n",
    "stay_cancel_rate = (\n",
    "    df.groupby(\"total_stay\")[\"is_canceled\"].mean().mul(100).reset_index()\n",
    ")\n",
    "\n",
    "# Plot\n",
    "plt.figure(figsize=(8,4))\n",
    "sns.lineplot(data=stay_cancel_rate, x=\"total_stay\", y=\"is_canceled\", marker=\"o\")\n",
    "plt.title(\"Cancellation Rate by Stay Length\")\n",
    "plt.xlabel(\"Total Stay (nights)\")\n",
    "plt.ylabel(\"Cancellation Rate (%)\")\n",
    "plt.xticks(range(0, min(df[\"total_stay\"].max(), 40)+1))  # cap x-axis at 40 nights for readability\n",
    "plt.show()\n"
   ]
  },
  {
   "cell_type": "code",
   "execution_count": 4,
   "id": "3e5209dd",
   "metadata": {},
   "outputs": [
    {
     "name": "stderr",
     "output_type": "stream",
     "text": [
      "/tmp/ipykernel_8687/1018409193.py:8: FutureWarning: The default of observed=False is deprecated and will be changed to True in a future version of pandas. Pass observed=False to retain current behavior or observed=True to adopt the future default and silence this warning.\n",
      "  cancel_by_cat = df.groupby(\"stay_category\")[\"is_canceled\"].mean().mul(100).reset_index()\n"
     ]
    },
    {
     "data": {
      "image/png": "[encoded data removed]",
      "text/plain": [
       "<Figure size 600x400 with 1 Axes>"
      ]
     },
     "metadata": {},
     "output_type": "display_data"
    }
   ],
   "source": [
    "bins = [0, 7, 14, 30, df[\"total_stay\"].max()]  \n",
    "labels = [\"Short (1–7)\", \"Medium (8–14)\", \"Mid-long (15–30)\", \"Long (>30)\"]\n",
    "\n",
    "df[\"stay_category\"] = pd.cut(df[\"total_stay\"], bins=bins, labels=labels, right=True)\n",
    "\n",
    "cancel_by_cat = df.groupby(\"stay_category\")[\"is_canceled\"].mean().mul(100).reset_index()\n",
    "\n",
    "plt.figure(figsize=(6,4))\n",
    "sns.barplot(data=cancel_by_cat, x=\"stay_category\", y=\"is_canceled\", edgecolor=\"black\")\n",
    "plt.ylabel(\"Cancellation Rate (%)\")\n",
    "plt.xlabel(\"Stay Length Category\")\n",
    "plt.title(\"Cancellation Rate by Stay Length Category\")\n",
    "plt.show()"
   ]
  },
  {
   "cell_type": "markdown",
   "id": "981054a6",
   "metadata": {},
   "source": [
    "### Previous Cancellation Rate\n",
    "\n",
    "Only a small fraction of customers (~2%) have a history of cancellations.  \n",
    "However, this group shows a **much higher cancellation rate (~68%)** compared to those with no prior cancellations (~27%).  \n",
    "Even though the feature is sparse, it provides a **strong signal** when present."
   ]
  },
  {
   "cell_type": "code",
   "execution_count": 5,
   "id": "d4755204",
   "metadata": {},
   "outputs": [
    {
     "data": {
      "image/png": "[encoded data removed]",
      "text/plain": [
       "<Figure size 500x400 with 1 Axes>"
      ]
     },
     "metadata": {},
     "output_type": "display_data"
    },
    {
     "name": "stdout",
     "output_type": "stream",
     "text": [
      "has_prev_cancel\n",
      "0    98.07142\n",
      "1     1.92858\n",
      "Name: proportion, dtype: float64\n"
     ]
    }
   ],
   "source": [
    "df[\"has_prev_cancel\"] = (df[\"previous_cancellations\"] > 0).astype(int)\n",
    "\n",
    "cancel_by_prev = df.groupby(\"has_prev_cancel\")[\"is_canceled\"].mean().mul(100)\n",
    "\n",
    "ax = cancel_by_prev.plot(kind=\"bar\", edgecolor=\"black\", figsize=(5,4))\n",
    "ax.set_ylabel(\"Cancellation Rate (%)\")\n",
    "ax.set_title(\"Cancellation Rate: Previous Cancellation History\")\n",
    "ax.set_xticklabels([\"No Previous Cancellations\",\"Has Previous Cancellations\"], rotation=15)\n",
    "plt.show()\n",
    "\n",
    "print(df[\"has_prev_cancel\"].value_counts(normalize=True).mul(100))\n"
   ]
  },
  {
   "cell_type": "markdown",
   "id": "32d03a39",
   "metadata": {},
   "source": [
    "### Previous Successful Bookings\n",
    "\n",
    "Customers with prior successful stays are **much less likely to cancel**.  \n",
    "Their cancellation rate is only ~5%, compared to ~28% for customers with no prior successful bookings.  \n",
    "This feature provides a **strong loyalty signal** that helps distinguish reliable repeat guests from new or uncertain ones.\n"
   ]
  },
  {
   "cell_type": "code",
   "execution_count": 6,
   "id": "4df59a86",
   "metadata": {},
   "outputs": [
    {
     "data": {
      "image/png": "[encoded data removed]",
      "text/plain": [
       "<Figure size 500x400 with 1 Axes>"
      ]
     },
     "metadata": {},
     "output_type": "display_data"
    },
    {
     "name": "stdout",
     "output_type": "stream",
     "text": [
      "has_prev_success\n",
      "0    95.942543\n",
      "1     4.057457\n",
      "Name: proportion, dtype: float64\n"
     ]
    }
   ],
   "source": [
    "df[\"has_prev_success\"] = (df[\"previous_bookings_not_canceled\"] > 0).astype(int)\n",
    "\n",
    "cancel_by_prev_success = df.groupby(\"has_prev_success\")[\"is_canceled\"].mean().mul(100)\n",
    "\n",
    "ax = cancel_by_prev_success.plot(kind=\"bar\", edgecolor=\"black\", figsize=(5,4))\n",
    "ax.set_ylabel(\"Cancellation Rate (%)\")\n",
    "ax.set_title(\"Cancellation Rate: Previous Successful Bookings\")\n",
    "ax.set_xticklabels([\"No Previous Success\",\"Has Previous Success\"], rotation=15)\n",
    "plt.show()\n",
    "\n",
    "print(df[\"has_prev_success\"].value_counts(normalize=True).mul(100))\n"
   ]
  },
  {
   "cell_type": "markdown",
   "id": "f3f44723",
   "metadata": {},
   "source": [
    "### Direct vs. Indirect Bookings  \n",
    "\n",
    "Indirect bookings (~85% of total) have a much higher cancellation rate (~30%) compared to direct bookings (~15%).  "
   ]
  },
  {
   "cell_type": "code",
   "execution_count": 7,
   "id": "81bd2ec8",
   "metadata": {},
   "outputs": [
    {
     "data": {
      "image/png": "[encoded data removed]",
      "text/plain": [
       "<Figure size 500x400 with 1 Axes>"
      ]
     },
     "metadata": {},
     "output_type": "display_data"
    }
   ],
   "source": [
    "df[\"is_direct_booking\"] = (df[\"distribution_channel\"] == \"Direct\").astype(int)\n",
    "\n",
    "cancel_by_channel = df.groupby(\"is_direct_booking\")[\"is_canceled\"].mean().mul(100)\n",
    "\n",
    "ax = cancel_by_channel.plot(kind=\"bar\", edgecolor=\"black\", figsize=(5,4))\n",
    "ax.set_ylabel(\"Cancellation Rate (%)\")\n",
    "ax.set_title(\"Cancellation Rate: Direct vs Indirect Booking\")\n",
    "ax.set_xticklabels([\"Indirect\",\"Direct\"], rotation=0)\n",
    "plt.show()\n"
   ]
  },
  {
   "cell_type": "markdown",
   "id": "6a30a693",
   "metadata": {},
   "source": [
    "### Dropped Features  \n",
    "\n",
    "The following engineered features were tested but not retained for modeling:  \n",
    "\n",
    "- **is_weekend_arrival:** Cancellation rates are nearly identical for weekday vs weekend arrivals.  \n",
    "- **is_midlong_stay:** Mid-long stays (15–30 nights) showed higher cancellation, but they represent only ~0.4% of bookings → too rare to provide value.  \n",
    "- **is_high_adr:** High ADR bookings have slightly higher cancellations, but the difference is weak and the raw ADR feature is sufficient.  \n",
    "- **room_changed:** Strongly associated with non-cancellation, but this is **data leakage** (only known at check-in). Excluded from all models.  \n",
    "\n",
    "These were dropped to avoid unnecessary noise or leakage in the final dataset.  "
   ]
  },
  {
   "cell_type": "markdown",
   "id": "0352421f",
   "metadata": {},
   "source": [
    "## First Round Training\n",
    "\n",
    "We will train and compare four models: **Logistic Regression, Random Forest, XGBoost, and LightGBM**.  \n",
    "These cover both a linear baseline (Logistic Regression) and powerful tree-based ensembles (Random Forest, XGBoost, LightGBM).  \n",
    "\n",
    "- **Decision Tree** and **Gradient Boosting** are excluded, as Random Forest and XGBoost typically outperform them.  \n",
    "- **KNN**, **SVM**, and similar algorithms are not included, since they scale poorly with large, high-dimensional categorical data.  \n"
   ]
  },
  {
   "cell_type": "markdown",
   "id": "8fbe9b2b",
   "metadata": {},
   "source": [
    "### Data Preprocessing for lienar and tree models"
   ]
  },
  {
   "cell_type": "code",
   "execution_count": null,
   "id": "6497fe5e",
   "metadata": {},
   "outputs": [],
   "source": [
    "from sklearn.preprocessing import StandardScaler, OneHotEncoder, LabelEncoder\n",
    "\n",
    "target = \"is_canceled\"\n",
    "drop_cols = [\"is_canceled\", \"reservation_status\", \"reservation_status_date\", \"assigned_room_type\"]\n",
    "\n",
    "y = df[target]\n",
    "X_base = df.drop(columns=drop_cols)\n",
    "\n",
    "numeric_features = [\n",
    "    \"lead_time\", \"total_stay\", \"adr\",\n",
    "    \"adults\", \"children\", \"babies\",\n",
    "    \"total_of_special_requests\", \"days_in_waiting_list\",\n",
    "    \"has_prev_cancel\", \"has_prev_success\", \"is_direct_booking\"\n",
    "]\n",
    "\n",
    "\n",
    "categorical_features = [\n",
    "    \"hotel\", \"arrival_date_year\", \"arrival_date_month\", \"arrival_date_week_number\",\n",
    "    \"arrival_date_day_of_month\", \"meal\", \"country\", \"market_segment\",\n",
    "    \"distribution_channel\", \"is_repeated_guest\", \"reserved_room_type\",\n",
    "    \"booking_changes\", \"deposit_type\", \"customer_type\",\n",
    "    \"stay_category\", \"required_car_parking_spaces\"\n",
    "]"
   ]
  },
  {
   "cell_type": "code",
   "execution_count": null,
   "id": "6c839549",
   "metadata": {},
   "outputs": [],
   "source": [
    "# Logistic Regression preprocessing\n",
    "\n",
    "scaler = StandardScaler()\n",
    "encoder = OneHotEncoder(handle_unknown=\"ignore\", sparse_output=False)\n",
    "\n",
    "X_num_scaled = pd.DataFrame(\n",
    "    scaler.fit_transform(X_base[numeric_features]),\n",
    "    columns=numeric_features,\n",
    "    index=X_base.index\n",
    ")\n",
    "\n",
    "X_cat_encoded = pd.DataFrame(\n",
    "    encoder.fit_transform(X_base[categorical_features]),\n",
    "    columns=encoder.get_feature_names_out(categorical_features),\n",
    "    index=X_base.index\n",
    ")\n",
    "\n",
    "X_linear = pd.concat([X_num_scaled, X_cat_encoded], axis=1)\n"
   ]
  },
  {
   "cell_type": "code",
   "execution_count": null,
   "id": "98ba62b4",
   "metadata": {},
   "outputs": [],
   "source": [
    "# Tree Models preprocessing\n",
    "\n",
    "X_tree = X_base.copy()\n",
    "\n",
    "for col in categorical_features:\n",
    "    le = LabelEncoder()\n",
    "    X_tree[col] = le.fit_transform(X_tree[col].astype(str))"
   ]
  },
  {
   "cell_type": "code",
   "execution_count": 11,
   "id": "2c1e99af",
   "metadata": {},
   "outputs": [
    {
     "name": "stdout",
     "output_type": "stream",
     "text": [
      "X_linear shape: (87370, 358)\n",
      "X_tree shape: (87370, 31)\n",
      "y shape: (87370,)\n"
     ]
    }
   ],
   "source": [
    "print(\"X_linear shape:\", X_linear.shape)\n",
    "print(\"X_tree shape:\", X_tree.shape)\n",
    "print(\"y shape:\", y.shape)"
   ]
  },
  {
   "cell_type": "markdown",
   "id": "3fc958b4",
   "metadata": {},
   "source": [
    "### Training Linear Model"
   ]
  },
  {
   "cell_type": "code",
   "execution_count": 12,
   "id": "79b9b703",
   "metadata": {},
   "outputs": [
    {
     "name": "stdout",
     "output_type": "stream",
     "text": [
      "Accuracy (Logistic Regression): 79.76 %\n",
      "\n",
      "Classification Report (Logistic Regression):\n",
      "\n",
      "              precision    recall  f1-score   support\n",
      "\n",
      "           0       0.82      0.92      0.87     12670\n",
      "           1       0.69      0.48      0.57      4804\n",
      "\n",
      "    accuracy                           0.80     17474\n",
      "   macro avg       0.76      0.70      0.72     17474\n",
      "weighted avg       0.79      0.80      0.79     17474\n",
      "\n"
     ]
    },
    {
     "name": "stderr",
     "output_type": "stream",
     "text": [
      "/home/codespace/.local/lib/python3.12/site-packages/sklearn/linear_model/_logistic.py:470: ConvergenceWarning: lbfgs failed to converge after 100 iteration(s) (status=1):\n",
      "STOP: TOTAL NO. OF ITERATIONS REACHED LIMIT\n",
      "\n",
      "Increase the number of iterations to improve the convergence (max_iter=100).\n",
      "You might also want to scale the data as shown in:\n",
      "    https://scikit-learn.org/stable/modules/preprocessing.html\n",
      "Please also refer to the documentation for alternative solver options:\n",
      "    https://scikit-learn.org/stable/modules/linear_model.html#logistic-regression\n",
      "  n_iter_i = _check_optimize_result(\n"
     ]
    }
   ],
   "source": [
    "from sklearn.linear_model import LogisticRegression\n",
    "from sklearn.metrics import accuracy_score, classification_report\n",
    "\n",
    "from sklearn.model_selection import train_test_split\n",
    "X_train, X_test, y_train, y_test = train_test_split(\n",
    "    X_linear, y, test_size=0.2, random_state=42, stratify=y\n",
    ")\n",
    "\n",
    "lr = LogisticRegression(random_state=42)\n",
    "lr.fit(X_train, y_train)\n",
    "\n",
    "y_pred_lr = lr.predict(X_test)\n",
    "y_proba_lr = lr.predict_proba(X_test)\n",
    "\n",
    "print(\"Accuracy (Logistic Regression):\", round(accuracy_score(y_test, y_pred_lr)*100, 2), \"%\")\n",
    "print(\"\\nClassification Report (Logistic Regression):\\n\")\n",
    "print(classification_report(y_test, y_pred_lr))"
   ]
  },
  {
   "cell_type": "markdown",
   "id": "cba96d7a",
   "metadata": {},
   "source": [
    "### Training Tree models"
   ]
  },
  {
   "cell_type": "code",
   "execution_count": 13,
   "id": "47906cba",
   "metadata": {},
   "outputs": [
    {
     "name": "stdout",
     "output_type": "stream",
     "text": [
      "Accuracy (Random Forest): 84.11 %\n",
      "\n",
      "Classification Report (Random Forest):\n",
      "\n",
      "              precision    recall  f1-score   support\n",
      "\n",
      "           0       0.87      0.92      0.89     12670\n",
      "           1       0.76      0.62      0.68      4804\n",
      "\n",
      "    accuracy                           0.84     17474\n",
      "   macro avg       0.81      0.77      0.79     17474\n",
      "weighted avg       0.84      0.84      0.84     17474\n",
      "\n"
     ]
    }
   ],
   "source": [
    "from sklearn.ensemble import RandomForestClassifier\n",
    "\n",
    "X_train, X_test, y_train, y_test = train_test_split(\n",
    "    X_tree, y, test_size=0.2, random_state=42, stratify=y\n",
    ")\n",
    "\n",
    "rf = RandomForestClassifier(random_state=42)\n",
    "rf.fit(X_train, y_train)\n",
    "\n",
    "y_pred_rf = rf.predict(X_test)\n",
    "y_proba_rf = rf.predict_proba(X_test)\n",
    "\n",
    "print(\"Accuracy (Random Forest):\", round(accuracy_score(y_test, y_pred_rf)*100, 2), \"%\")\n",
    "print(\"\\nClassification Report (Random Forest):\\n\")\n",
    "print(classification_report(y_test, y_pred_rf))\n"
   ]
  },
  {
   "cell_type": "code",
   "execution_count": 14,
   "id": "c01a9823",
   "metadata": {},
   "outputs": [
    {
     "name": "stdout",
     "output_type": "stream",
     "text": [
      "Accuracy (XGBoost): 83.91 %\n",
      "\n",
      "Classification Report (XGBoost):\n",
      "\n",
      "              precision    recall  f1-score   support\n",
      "\n",
      "           0       0.87      0.92      0.89     12670\n",
      "           1       0.74      0.64      0.69      4804\n",
      "\n",
      "    accuracy                           0.84     17474\n",
      "   macro avg       0.81      0.78      0.79     17474\n",
      "weighted avg       0.83      0.84      0.84     17474\n",
      "\n"
     ]
    }
   ],
   "source": [
    "from xgboost import XGBClassifier\n",
    "\n",
    "X_train, X_test, y_train, y_test = train_test_split(\n",
    "    X_tree, y, test_size=0.2, random_state=42, stratify=y\n",
    ")\n",
    "\n",
    "xgb = XGBClassifier(random_state=42)\n",
    "xgb.fit(X_train, y_train)\n",
    "\n",
    "y_pred_xgb = xgb.predict(X_test)\n",
    "y_proba_xgb = xgb.predict_proba(X_test)\n",
    "\n",
    "\n",
    "print(\"Accuracy (XGBoost):\", round(accuracy_score(y_test, y_pred_xgb)*100, 2), \"%\")\n",
    "print(\"\\nClassification Report (XGBoost):\\n\")\n",
    "print(classification_report(y_test, y_pred_xgb))"
   ]
  },
  {
   "cell_type": "code",
   "execution_count": 15,
   "id": "6a1c74ca",
   "metadata": {},
   "outputs": [
    {
     "name": "stdout",
     "output_type": "stream",
     "text": [
      "[LightGBM] [Info] Number of positive: 19217, number of negative: 50679\n",
      "[LightGBM] [Info] Auto-choosing row-wise multi-threading, the overhead of testing was 0.015015 seconds.\n",
      "You can set `force_row_wise=true` to remove the overhead.\n",
      "And if memory is not enough, you can set `force_col_wise=true`.\n",
      "[LightGBM] [Info] Total Bins 1054\n",
      "[LightGBM] [Info] Number of data points in the train set: 69896, number of used features: 31\n",
      "[LightGBM] [Info] [binary:BoostFromScore]: pavg=0.274937 -> initscore=-0.969716\n",
      "[LightGBM] [Info] Start training from score -0.969716\n",
      "Accuracy (LightGBM): 83.5 %\n",
      "\n",
      "Classification Report (LightGBM):\n",
      "\n",
      "              precision    recall  f1-score   support\n",
      "\n",
      "           0       0.86      0.92      0.89     12670\n",
      "           1       0.74      0.62      0.67      4804\n",
      "\n",
      "    accuracy                           0.83     17474\n",
      "   macro avg       0.80      0.77      0.78     17474\n",
      "weighted avg       0.83      0.83      0.83     17474\n",
      "\n"
     ]
    }
   ],
   "source": [
    "import lightgbm as lgb\n",
    "\n",
    "X_train, X_test, y_train, y_test = train_test_split(\n",
    "    X_tree, y, test_size=0.2, random_state=42, stratify=y\n",
    ")\n",
    "\n",
    "lgbm = lgb.LGBMClassifier(random_state=42)\n",
    "lgbm.fit(X_train, y_train)\n",
    "\n",
    "y_pred_lgbm = lgbm.predict(X_test)\n",
    "y_proba_lgbm = lgbm.predict_proba(X_test)\n",
    "\n",
    "print(\"Accuracy (LightGBM):\", round(accuracy_score(y_test, y_pred_lgbm)*100, 2), \"%\")\n",
    "print(\"\\nClassification Report (LightGBM):\\n\")\n",
    "print(classification_report(y_test, y_pred_lgbm))"
   ]
  },
  {
   "cell_type": "markdown",
   "id": "3a403338",
   "metadata": {},
   "source": [
    "### Compare results"
   ]
  },
  {
   "cell_type": "code",
   "execution_count": 16,
   "id": "4efe35dd",
   "metadata": {},
   "outputs": [
    {
     "name": "stdout",
     "output_type": "stream",
     "text": [
      "Model Accuracies:\n",
      "Logistic Regression: 0.7976 (79.76%)\n",
      "Random Forest: 0.8411 (84.11%)\n",
      "XGBoost: 0.8391 (83.91%)\n",
      "LightGBM: 0.8350 (83.50%)\n"
     ]
    },
    {
     "data": {
      "image/png": "[encoded data removed]",
      "text/plain": [
       "<Figure size 600x400 with 1 Axes>"
      ]
     },
     "metadata": {},
     "output_type": "display_data"
    }
   ],
   "source": [
    "from sklearn.metrics import accuracy_score\n",
    "\n",
    "results = {}\n",
    "\n",
    "lr_acc = accuracy_score(y_test, y_pred_lr)\n",
    "results[\"Logistic Regression\"] = lr_acc\n",
    "rf_acc = accuracy_score(y_test, y_pred_rf)\n",
    "results[\"Random Forest\"] = rf_acc\n",
    "xgb_acc = accuracy_score(y_test, y_pred_xgb)\n",
    "results[\"XGBoost\"] = xgb_acc\n",
    "lgbm_acc = accuracy_score(y_test, y_pred_lgbm)\n",
    "results[\"LightGBM\"] = lgbm_acc\n",
    "\n",
    "print(\"Model Accuracies:\")\n",
    "for model, acc in results.items():\n",
    "    print(f\"{model}: {acc:.4f} ({acc*100:.2f}%)\")\n",
    "\n",
    "# Plot comparison\n",
    "plt.figure(figsize=(6,4))\n",
    "sns.barplot(x=list(results.keys()), y=list(results.values()), edgecolor=\"black\")\n",
    "plt.ylabel(\"Accuracy\")\n",
    "plt.title(\"First Round Model Comparison\")\n",
    "plt.ylim(0,1)\n",
    "plt.show()\n"
   ]
  },
  {
   "cell_type": "code",
   "execution_count": 17,
   "id": "786802ba",
   "metadata": {},
   "outputs": [
    {
     "data": {
      "text/html": [
       "<div>\n",
       "<style scoped>\n",
       "    .dataframe tbody tr th:only-of-type {\n",
       "        vertical-align: middle;\n",
       "    }\n",
       "\n",
       "    .dataframe tbody tr th {\n",
       "        vertical-align: top;\n",
       "    }\n",
       "\n",
       "    .dataframe thead th {\n",
       "        text-align: right;\n",
       "    }\n",
       "</style>\n",
       "<table border=\"1\" class=\"dataframe\">\n",
       "  <thead>\n",
       "    <tr style=\"text-align: right;\">\n",
       "      <th></th>\n",
       "      <th>Accuracy</th>\n",
       "      <th>Precision</th>\n",
       "      <th>Recall</th>\n",
       "      <th>F1 Score</th>\n",
       "      <th>ROC-AUC</th>\n",
       "    </tr>\n",
       "  </thead>\n",
       "  <tbody>\n",
       "    <tr>\n",
       "      <th>Logistic Regression</th>\n",
       "      <td>0.7976</td>\n",
       "      <td>0.6897</td>\n",
       "      <td>0.4798</td>\n",
       "      <td>0.5659</td>\n",
       "      <td>0.8425</td>\n",
       "    </tr>\n",
       "    <tr>\n",
       "      <th>Random Forest</th>\n",
       "      <td>0.8411</td>\n",
       "      <td>0.7576</td>\n",
       "      <td>0.6205</td>\n",
       "      <td>0.6822</td>\n",
       "      <td>0.8935</td>\n",
       "    </tr>\n",
       "    <tr>\n",
       "      <th>XGBoost</th>\n",
       "      <td>0.8391</td>\n",
       "      <td>0.7405</td>\n",
       "      <td>0.6384</td>\n",
       "      <td>0.6857</td>\n",
       "      <td>0.8993</td>\n",
       "    </tr>\n",
       "    <tr>\n",
       "      <th>LightGBM</th>\n",
       "      <td>0.8350</td>\n",
       "      <td>0.7394</td>\n",
       "      <td>0.6172</td>\n",
       "      <td>0.6728</td>\n",
       "      <td>0.8964</td>\n",
       "    </tr>\n",
       "  </tbody>\n",
       "</table>\n",
       "</div>"
      ],
      "text/plain": [
       "                     Accuracy  Precision  Recall  F1 Score  ROC-AUC\n",
       "Logistic Regression    0.7976     0.6897  0.4798    0.5659   0.8425\n",
       "Random Forest          0.8411     0.7576  0.6205    0.6822   0.8935\n",
       "XGBoost                0.8391     0.7405  0.6384    0.6857   0.8993\n",
       "LightGBM               0.8350     0.7394  0.6172    0.6728   0.8964"
      ]
     },
     "metadata": {},
     "output_type": "display_data"
    }
   ],
   "source": [
    "from sklearn.metrics import accuracy_score, precision_score, recall_score, f1_score, roc_auc_score\n",
    "import pandas as pd\n",
    "\n",
    "metrics = {}\n",
    "\n",
    "def evaluate_model(name, y_true, y_pred, y_proba):\n",
    "    metrics[name] = {\n",
    "        \"Accuracy\": accuracy_score(y_true, y_pred),\n",
    "        \"Precision\": precision_score(y_true, y_pred),\n",
    "        \"Recall\": recall_score(y_true, y_pred),\n",
    "        \"F1 Score\": f1_score(y_true, y_pred),\n",
    "        \"ROC-AUC\": roc_auc_score(y_true, y_proba[:,1])  # probability for class 1\n",
    "    }\n",
    "\n",
    "evaluate_model(\"Logistic Regression\", y_test, y_pred_lr, y_proba_lr)\n",
    "evaluate_model(\"Random Forest\", y_test, y_pred_rf, y_proba_rf)\n",
    "evaluate_model(\"XGBoost\", y_test, y_pred_xgb, y_proba_xgb)\n",
    "evaluate_model(\"LightGBM\", y_test, y_pred_lgbm, y_proba_lgbm)\n",
    "\n",
    "metrics_df = pd.DataFrame(metrics).T\n",
    "metrics_df = metrics_df.round(4)\n",
    "display(metrics_df)\n"
   ]
  },
  {
   "cell_type": "markdown",
   "id": "0a73af86",
   "metadata": {},
   "source": [
    "### Conclusion of first round\n",
    "\n",
    "In the first round, we evaluated four candidate models — Logistic Regression, Random Forest, XGBoost, and LightGBM — on the cleaned and engineered dataset.\n",
    "\n",
    "- Logistic Regression achieved ~80% accuracy, serving as a strong linear baseline.\n",
    "\n",
    "Random Forest, XGBoost, and LightGBM all achieved accuracies in the 84% range, significantly outperforming the linear baseline.\n",
    "\n",
    "- Differences among the three tree-based models were minimal (within ~0.2%), indicating they all capture the non-linear structure of the data effectively.\n",
    "\n",
    "To balance **performance, diversity, and interpretability**, we will move forward with **Random Forest** – robust, interpretable, and less sensitive to tuning.\n",
    "\n",
    "These two models provide complementary strengths (bagging vs. boosting), ensuring that the next round of hyperparameter tuning and interpretation is both rigorous and insightful."
   ]
  },
  {
   "cell_type": "markdown",
   "id": "211d24bb",
   "metadata": {},
   "source": [
    "##"
   ]
  },
  {
   "cell_type": "markdown",
   "id": "1e383347",
   "metadata": {},
   "source": [
    "## Hyperparameter Tuning\n",
    "\n",
    "In this stage, we fine-tune Random Forest to check whether performance can be improved beyond the first-round baseline.\n",
    "\n",
    "We use RandomizedSearchCV with a compact parameter grid and 3-fold stratified cross-validation:\n",
    "\n",
    "- Instead of an exhaustive Grid Search, which is computationally expensive, we sample from a limited set of plausible parameter values.\n",
    "\n",
    "- The search covers key Random Forest parameters such as the number of trees (n_estimators), tree depth (max_depth), feature subsampling (max_features), and minimum split/leaf sizes.\n",
    "\n",
    "- This lightweight approach is sufficient to test whether tuning leads to meaningful gains without excessive runtime."
   ]
  },
  {
   "cell_type": "code",
   "execution_count": 20,
   "id": "61dc7ff0",
   "metadata": {},
   "outputs": [
    {
     "name": "stdout",
     "output_type": "stream",
     "text": [
      "Fitting 3 folds for each of 10 candidates, totalling 30 fits\n"
     ]
    },
    {
     "name": "stdout",
     "output_type": "stream",
     "text": [
      "Best RF CV accuracy: 0.8363 ± 0.0078\n",
      "Best params: {'model__n_estimators': 100, 'model__min_samples_split': 2, 'model__min_samples_leaf': 1, 'model__max_features': 0.4, 'model__max_depth': 20}\n"
     ]
    }
   ],
   "source": [
    "from sklearn.model_selection import StratifiedKFold, RandomizedSearchCV\n",
    "from sklearn.pipeline import Pipeline\n",
    "from scipy.stats import randint, uniform\n",
    "\n",
    "preprocessor = \"passthrough\"\n",
    "\n",
    "rf_base = RandomForestClassifier(\n",
    "    n_estimators=200,\n",
    "    random_state=42,\n",
    "    n_jobs=-1\n",
    ")\n",
    "\n",
    "pipe = Pipeline(steps=[\n",
    "    (\"preprocessor\", preprocessor),\n",
    "    (\"model\", rf_base)\n",
    "])\n",
    "\n",
    "cv = StratifiedKFold(n_splits=5, shuffle=True, random_state=42)\n",
    "\n",
    "param_dist = {\n",
    "    \"model__n_estimators\": [100, 200],\n",
    "    \"model__max_depth\": [10, 15, 20],\n",
    "    \"model__min_samples_split\": [2, 5],\n",
    "    \"model__min_samples_leaf\": [1, 2],\n",
    "    \"model__max_features\": [\"sqrt\", 0.4]\n",
    "}\n",
    "\n",
    "search = RandomizedSearchCV(\n",
    "    estimator=pipe,\n",
    "    param_distributions=param_dist,\n",
    "    n_iter=10,\n",
    "    cv=3,\n",
    "    n_jobs=-1,\n",
    "    random_state=42,\n",
    "    verbose=1\n",
    ")\n",
    "search.fit(X_train, y_train)\n",
    "\n",
    "mean_score = search.best_score_\n",
    "std_score  = np.std(search.cv_results_[\"mean_test_score\"])\n",
    "print(\"Best RF CV accuracy:\", f\"{mean_score:.4f} ± {std_score:.4f}\")\n",
    "print(\"Best params:\", search.best_params_)\n"
   ]
  },
  {
   "cell_type": "code",
   "execution_count": 21,
   "id": "7bb06e41",
   "metadata": {},
   "outputs": [
    {
     "name": "stdout",
     "output_type": "stream",
     "text": [
      "Test Accuracy: 0.8398\n",
      "Precision: 0.7455\n",
      "Recall: 0.6334\n",
      "F1: 0.6849\n",
      "ROC-AUC: 0.8978\n"
     ]
    }
   ],
   "source": [
    "best_rf = search.best_estimator_\n",
    "best_rf.fit(X_train, y_train)\n",
    "\n",
    "from sklearn.metrics import accuracy_score, precision_score, recall_score, f1_score, roc_auc_score\n",
    "y_pred = best_rf.predict(X_test)\n",
    "y_proba = best_rf.predict_proba(X_test)[:, 1]\n",
    "\n",
    "print(\"Test Accuracy:\", f\"{accuracy_score(y_test, y_pred):.4f}\")\n",
    "print(\"Precision:\", f\"{precision_score(y_test, y_pred):.4f}\")\n",
    "print(\"Recall:\", f\"{recall_score(y_test, y_pred):.4f}\")\n",
    "print(\"F1:\", f\"{f1_score(y_test, y_pred):.4f}\")\n",
    "print(\"ROC-AUC:\", f\"{roc_auc_score(y_test, y_proba):.4f}\")"
   ]
  },
  {
   "cell_type": "markdown",
   "id": "b882adcc",
   "metadata": {},
   "source": [
    "## Feature Importance"
   ]
  },
  {
   "cell_type": "code",
   "execution_count": 24,
   "id": "53d1ca1d",
   "metadata": {},
   "outputs": [
    {
     "data": {
      "text/html": [
       "<div>\n",
       "<style scoped>\n",
       "    .dataframe tbody tr th:only-of-type {\n",
       "        vertical-align: middle;\n",
       "    }\n",
       "\n",
       "    .dataframe tbody tr th {\n",
       "        vertical-align: top;\n",
       "    }\n",
       "\n",
       "    .dataframe thead th {\n",
       "        text-align: right;\n",
       "    }\n",
       "</style>\n",
       "<table border=\"1\" class=\"dataframe\">\n",
       "  <thead>\n",
       "    <tr style=\"text-align: right;\">\n",
       "      <th></th>\n",
       "      <th>Feature</th>\n",
       "      <th>Importance</th>\n",
       "    </tr>\n",
       "  </thead>\n",
       "  <tbody>\n",
       "    <tr>\n",
       "      <th>1</th>\n",
       "      <td>lead_time</td>\n",
       "      <td>0.152249</td>\n",
       "    </tr>\n",
       "    <tr>\n",
       "      <th>12</th>\n",
       "      <td>country</td>\n",
       "      <td>0.108747</td>\n",
       "    </tr>\n",
       "    <tr>\n",
       "      <th>23</th>\n",
       "      <td>adr</td>\n",
       "      <td>0.090101</td>\n",
       "    </tr>\n",
       "    <tr>\n",
       "      <th>25</th>\n",
       "      <td>total_of_special_requests</td>\n",
       "      <td>0.085139</td>\n",
       "    </tr>\n",
       "    <tr>\n",
       "      <th>13</th>\n",
       "      <td>market_segment</td>\n",
       "      <td>0.077276</td>\n",
       "    </tr>\n",
       "    <tr>\n",
       "      <th>4</th>\n",
       "      <td>arrival_date_week_number</td>\n",
       "      <td>0.057780</td>\n",
       "    </tr>\n",
       "    <tr>\n",
       "      <th>5</th>\n",
       "      <td>arrival_date_day_of_month</td>\n",
       "      <td>0.054402</td>\n",
       "    </tr>\n",
       "    <tr>\n",
       "      <th>24</th>\n",
       "      <td>required_car_parking_spaces</td>\n",
       "      <td>0.045103</td>\n",
       "    </tr>\n",
       "    <tr>\n",
       "      <th>2</th>\n",
       "      <td>arrival_date_year</td>\n",
       "      <td>0.037364</td>\n",
       "    </tr>\n",
       "    <tr>\n",
       "      <th>26</th>\n",
       "      <td>total_stay</td>\n",
       "      <td>0.031300</td>\n",
       "    </tr>\n",
       "  </tbody>\n",
       "</table>\n",
       "</div>"
      ],
      "text/plain": [
       "                        Feature  Importance\n",
       "1                     lead_time    0.152249\n",
       "12                      country    0.108747\n",
       "23                          adr    0.090101\n",
       "25    total_of_special_requests    0.085139\n",
       "13               market_segment    0.077276\n",
       "4      arrival_date_week_number    0.057780\n",
       "5     arrival_date_day_of_month    0.054402\n",
       "24  required_car_parking_spaces    0.045103\n",
       "2             arrival_date_year    0.037364\n",
       "26                   total_stay    0.031300"
      ]
     },
     "execution_count": 24,
     "metadata": {},
     "output_type": "execute_result"
    }
   ],
   "source": [
    "importances = best_rf.named_steps[\"model\"].feature_importances_\n",
    "feature_names = X_train.columns\n",
    "\n",
    "feat_imp = pd.DataFrame({\n",
    "    \"Feature\": feature_names,\n",
    "    \"Importance\": importances\n",
    "}).sort_values(by=\"Importance\", ascending=False)\n",
    "\n",
    "feat_imp.head(10)\n"
   ]
  },
  {
   "cell_type": "markdown",
   "id": "da5ff389",
   "metadata": {},
   "source": [
    "## Conclusion: Fine-Tuning and Feature Importance  \n",
    "\n",
    "Fine-tuning improved results only marginally (≤0.5%), showing diminishing returns beyond the first round.  \n",
    "\n",
    "Key drivers of cancellations:  \n",
    "- **Lead time** (longer bookings → higher risk)  \n",
    "- **Country of origin** (regional differences)  \n",
    "- **ADR** (unusual prices signal unreliable bookings)  \n",
    "\n",
    "Other factors like **special requests**, **market segment**, and **arrival timing** also matter.  "
   ]
  }
 ],
 "metadata": {
  "kernelspec": {
   "display_name": "Python 3",
   "language": "python",
   "name": "python3"
  },
  "language_info": {
   "codemirror_mode": {
    "name": "ipython",
    "version": 3
   },
   "file_extension": ".py",
   "mimetype": "text/x-python",
   "name": "python",
   "nbconvert_exporter": "python",
   "pygments_lexer": "ipython3",
   "version": "3.12.1"
  }
 },
 "nbformat": 4,
 "nbformat_minor": 5
}
